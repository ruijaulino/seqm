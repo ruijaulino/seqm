{
 "cells": [
  {
   "cell_type": "code",
   "execution_count": 1,
   "metadata": {},
   "outputs": [],
   "source": [
    "import numpy as np\n",
    "import pandas as pd\n",
    "import matplotlib.pyplot as plt\n",
    "import seqm\n",
    "plt.style.use('dark_background')"
   ]
  },
  {
   "cell_type": "code",
   "execution_count": 7,
   "metadata": {},
   "outputs": [
    {
     "data": {
      "image/png": "[encoded data removed]",
      "text/plain": [
       "<Figure size 432x288 with 1 Axes>"
      ]
     },
     "metadata": {},
     "output_type": "display_data"
    },
    {
     "data": {
      "text/html": [
       "<div>\n",
       "<style scoped>\n",
       "    .dataframe tbody tr th:only-of-type {\n",
       "        vertical-align: middle;\n",
       "    }\n",
       "\n",
       "    .dataframe tbody tr th {\n",
       "        vertical-align: top;\n",
       "    }\n",
       "\n",
       "    .dataframe thead th {\n",
       "        text-align: right;\n",
       "    }\n",
       "</style>\n",
       "<table border=\"1\" class=\"dataframe\">\n",
       "  <thead>\n",
       "    <tr style=\"text-align: right;\">\n",
       "      <th></th>\n",
       "      <th>x</th>\n",
       "      <th>y</th>\n",
       "    </tr>\n",
       "  </thead>\n",
       "  <tbody>\n",
       "    <tr>\n",
       "      <th>2000-01-01</th>\n",
       "      <td>-0.091412</td>\n",
       "      <td>-0.003875</td>\n",
       "    </tr>\n",
       "    <tr>\n",
       "      <th>2000-01-02</th>\n",
       "      <td>0.029554</td>\n",
       "      <td>0.114502</td>\n",
       "    </tr>\n",
       "    <tr>\n",
       "      <th>2000-01-03</th>\n",
       "      <td>0.129677</td>\n",
       "      <td>0.171587</td>\n",
       "    </tr>\n",
       "    <tr>\n",
       "      <th>2000-01-04</th>\n",
       "      <td>-0.060457</td>\n",
       "      <td>-0.032754</td>\n",
       "    </tr>\n",
       "    <tr>\n",
       "      <th>2000-01-05</th>\n",
       "      <td>0.090485</td>\n",
       "      <td>-0.072917</td>\n",
       "    </tr>\n",
       "    <tr>\n",
       "      <th>...</th>\n",
       "      <td>...</td>\n",
       "      <td>...</td>\n",
       "    </tr>\n",
       "    <tr>\n",
       "      <th>2002-09-22</th>\n",
       "      <td>-0.012453</td>\n",
       "      <td>0.248470</td>\n",
       "    </tr>\n",
       "    <tr>\n",
       "      <th>2002-09-23</th>\n",
       "      <td>0.189466</td>\n",
       "      <td>0.205930</td>\n",
       "    </tr>\n",
       "    <tr>\n",
       "      <th>2002-09-24</th>\n",
       "      <td>0.035687</td>\n",
       "      <td>0.140764</td>\n",
       "    </tr>\n",
       "    <tr>\n",
       "      <th>2002-09-25</th>\n",
       "      <td>-0.005111</td>\n",
       "      <td>0.161415</td>\n",
       "    </tr>\n",
       "    <tr>\n",
       "      <th>2002-09-26</th>\n",
       "      <td>0.000654</td>\n",
       "      <td>-0.114659</td>\n",
       "    </tr>\n",
       "  </tbody>\n",
       "</table>\n",
       "<p>1000 rows × 2 columns</p>\n",
       "</div>"
      ],
      "text/plain": [
       "                   x         y\n",
       "2000-01-01 -0.091412 -0.003875\n",
       "2000-01-02  0.029554  0.114502\n",
       "2000-01-03  0.129677  0.171587\n",
       "2000-01-04 -0.060457 -0.032754\n",
       "2000-01-05  0.090485 -0.072917\n",
       "...              ...       ...\n",
       "2002-09-22 -0.012453  0.248470\n",
       "2002-09-23  0.189466  0.205930\n",
       "2002-09-24  0.035687  0.140764\n",
       "2002-09-25 -0.005111  0.161415\n",
       "2002-09-26  0.000654 -0.114659\n",
       "\n",
       "[1000 rows x 2 columns]"
      ]
     },
     "execution_count": 7,
     "metadata": {},
     "output_type": "execute_result"
    }
   ],
   "source": [
    "\n",
    "# create a dataset\n",
    "n = 1000\n",
    "s = 0.1\n",
    "x = np.random.normal(0, s, n)\n",
    "y = np.random.normal(x, s, n)\n",
    "\n",
    "data = pd.DataFrame()\n",
    "data['x'] = x\n",
    "data['y'] = y\n",
    "data.index = pd.date_range('2000-01-01', periods = n, freq = 'D')\n",
    "data.plot.scatter('x','y')\n",
    "plt.show()\n",
    "data"
   ]
  },
  {
   "cell_type": "code",
   "execution_count": null,
   "metadata": {},
   "outputs": [],
   "source": []
  },
  {
   "cell_type": "code",
   "execution_count": 9,
   "metadata": {},
   "outputs": [],
   "source": [
    "# create dataset object\n",
    "dataset = seqm.Dataset({'data' : data})"
   ]
  },
  {
   "cell_type": "code",
   "execution_count": 11,
   "metadata": {},
   "outputs": [],
   "source": [
    "# create model pipe\n",
    "model_pipes = seqm.ModelPipes()\n",
    "for key in dataset.keys():\n",
    "    # instantiate a model\n",
    "    # ConditionalGaussian: lin reg\n",
    "    # GaussianHMM\n",
    "    # ConditionalGaussianHMM\n",
    "    model = seqm.ConditionalGaussian(kelly_std=2, max_w=1)\n",
    "    # create a pipe for data\n",
    "    model_pipe_ = seqm.ModelPipe(model = model)\n",
    "    # store pipe in pipes\n",
    "    model_pipes[key] = model_pipe_"
   ]
  },
  {
   "cell_type": "code",
   "execution_count": null,
   "metadata": {},
   "outputs": [],
   "source": []
  },
  {
   "cell_type": "code",
   "execution_count": null,
   "metadata": {},
   "outputs": [],
   "source": []
  },
  {
   "cell_type": "code",
   "execution_count": 12,
   "metadata": {},
   "outputs": [
    {
     "name": "stderr",
     "output_type": "stream",
     "text": [
      "100%|██████████████████████████████████████████████████████████████████████████████████| 10/10 [00:00<00:00, 15.28it/s]\n"
     ]
    }
   ],
   "source": [
    "paths=dataset.cvbt(\n",
    "                model_pipes = model_pipes, \n",
    "                k_folds = 4, \n",
    "                seq_path = False, \n",
    "                start_fold = 0, \n",
    "                n_paths = 10, \n",
    "                burn_fraction = 0.1, \n",
    "                min_burn_points = 3 \n",
    "                )"
   ]
  },
  {
   "cell_type": "code",
   "execution_count": null,
   "metadata": {},
   "outputs": [],
   "source": [
    "seqm.post_process(paths)\n"
   ]
  },
  {
   "cell_type": "code",
   "execution_count": null,
   "metadata": {},
   "outputs": [],
   "source": []
  }
 ],
 "metadata": {
  "kernelspec": {
   "display_name": "Python 3",
   "language": "python",
   "name": "python3"
  },
  "language_info": {
   "codemirror_mode": {
    "name": "ipython",
    "version": 3
   },
   "file_extension": ".py",
   "mimetype": "text/x-python",
   "name": "python",
   "nbconvert_exporter": "python",
   "pygments_lexer": "ipython3",
   "version": "3.8.5"
  }
 },
 "nbformat": 4,
 "nbformat_minor": 4
}
