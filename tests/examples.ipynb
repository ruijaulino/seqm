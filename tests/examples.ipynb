{
 "cells": [
  {
   "cell_type": "code",
   "execution_count": 1,
   "metadata": {},
   "outputs": [],
   "source": [
    "import numpy as np\n",
    "import pandas as pd\n",
    "import matplotlib.pyplot as plt\n",
    "import sys\n",
    "import importlib\n",
    "plt.style.use('dark_background')"
   ]
  },
  {
   "cell_type": "code",
   "execution_count": 2,
   "metadata": {},
   "outputs": [],
   "source": [
    "from matplotlib import rcParams\n",
    "rcParams['figure.figsize'] = 4, 2"
   ]
  },
  {
   "cell_type": "code",
   "execution_count": 3,
   "metadata": {},
   "outputs": [],
   "source": [
    "sys.path.insert(0, '../seqm') "
   ]
  },
  {
   "cell_type": "code",
   "execution_count": 4,
   "metadata": {},
   "outputs": [
    {
     "ename": "SyntaxError",
     "evalue": "invalid syntax (dataset.py, line 230)",
     "output_type": "error",
     "traceback": [
      "Traceback \u001b[1;36m(most recent call last)\u001b[0m:\n",
      "  File \u001b[0;32m\"C:\\Users\\DiogoLino\\Anaconda3\\lib\\site-packages\\IPython\\core\\interactiveshell.py\"\u001b[0m, line \u001b[0;32m3418\u001b[0m, in \u001b[0;35mrun_code\u001b[0m\n    exec(code_obj, self.user_global_ns, self.user_ns)\n",
      "\u001b[1;36m  File \u001b[1;32m\"<ipython-input-4-a77a4aee54b8>\"\u001b[1;36m, line \u001b[1;32m5\u001b[1;36m, in \u001b[1;35m<module>\u001b[1;36m\u001b[0m\n\u001b[1;33m    import dataset\u001b[0m\n",
      "\u001b[1;36m  File \u001b[1;32m\"../seqm\\dataset.py\"\u001b[1;36m, line \u001b[1;32m230\u001b[0m\n\u001b[1;33m    apply_transform_x = True,\u001b[0m\n\u001b[1;37m    ^\u001b[0m\n\u001b[1;31mSyntaxError\u001b[0m\u001b[1;31m:\u001b[0m invalid syntax\n"
     ]
    }
   ],
   "source": [
    "# setting path\n",
    "import model_pipe\n",
    "import models\n",
    "import generators\n",
    "import dataset     \n",
    "import post_process      "
   ]
  },
  {
   "cell_type": "code",
   "execution_count": null,
   "metadata": {},
   "outputs": [],
   "source": []
  },
  {
   "cell_type": "code",
   "execution_count": null,
   "metadata": {
    "scrolled": false
   },
   "outputs": [],
   "source": [
    "# data now contains observed states, for example model for different weekdays\n",
    "phi=np.array([0.8,0.2])\n",
    "means=[\n",
    "        np.array([0.1]),\n",
    "        np.array([-0.1])\n",
    "    ] # let the means be different from zero \n",
    "\n",
    "# list of covariance matrices (for each mixture)\n",
    "covs=[\n",
    "    np.array([[0.1]]),\n",
    "    np.array([[0.5]])\n",
    "]\n",
    "# number of data points to generate\n",
    "n=500 \n",
    "\n",
    "x1,z1=generators.simulate_mvgmm(n,phi,means,covs)\n",
    "x2,z2=generators.simulate_mvgmm(n,phi,means,covs)\n",
    "dates=pd.date_range('2000-01-01',periods=x1.shape[0],freq='B')\n",
    "data1=pd.DataFrame(np.hstack((x1,z1[:,None])),columns=['y1','z'],index=dates)\n",
    "data2=pd.DataFrame(np.hstack((x2,z2[:,None])),columns=['y1','z'],index=dates)\n",
    "\n",
    "dataset_obj=dataset.Dataset({'dataset 1':data1,'dataset 2':data2})\t\n",
    "# create model\n",
    "model=models.StateGaussian(n_gibbs=None,f_burn=0.1,max_k=0.25,min_points=10)\n",
    "model_pipes=model_pipe.ModelPipes(model)\n",
    "for key in dataset_obj.keys():\n",
    "    model_pipe_ = model_pipe.ModelPipe()\n",
    "    model_pipes[key] = model_pipe_\n",
    "\n",
    "paths=dataset_obj.cvbt(\n",
    "                model_pipes, \n",
    "                k_folds=4, \n",
    "                seq_path=False, \n",
    "                start_fold=0, \n",
    "                n_paths=4, \n",
    "                burn_fraction=0.1, \n",
    "                min_burn_points=3, \n",
    "                share_model=True, \n",
    "                view_models=False\n",
    "                )\n",
    "post_process.portfolio_post_process(paths)\n",
    "\n",
    "\n",
    "\n"
   ]
  },
  {
   "cell_type": "code",
   "execution_count": null,
   "metadata": {},
   "outputs": [],
   "source": []
  },
  {
   "cell_type": "code",
   "execution_count": null,
   "metadata": {},
   "outputs": [],
   "source": []
  },
  {
   "cell_type": "code",
   "execution_count": null,
   "metadata": {},
   "outputs": [],
   "source": []
  },
  {
   "cell_type": "code",
   "execution_count": null,
   "metadata": {},
   "outputs": [],
   "source": []
  },
  {
   "cell_type": "code",
   "execution_count": null,
   "metadata": {
    "scrolled": true
   },
   "outputs": [],
   "source": [
    "# Conditional Gaussian/Mixture\n",
    "# data now contains observed states, for example model for different weekdays\n",
    "phi=np.array([0.8,0.2])\n",
    "means=[\n",
    "        np.array([0.1]),\n",
    "        np.array([-0.1])\n",
    "    ] # let the means be different from zero \n",
    "# list of covariance matrices (for each mixture)\n",
    "covs=[\n",
    "    np.array([[0.1]]),\n",
    "    np.array([[0.5]])\n",
    "]\n",
    "# number of data points to generate\n",
    "n=500 \n",
    "data=generators.linear(n=1000,a=0,b=0.1,start_date='2000-01-01')\n",
    "\n",
    "dataset_obj=dataset.Dataset({'dataset 1':data})\t\n",
    "# create model\n",
    "model=models.ConditionalGaussian(n_gibbs=None,kelly_std=2,max_w=1)\n",
    "model_pipes=model_pipe.ModelPipes(None)\n",
    "for key in dataset_obj.keys():\n",
    "    model=models.ConditionalGaussian(n_gibbs=None,kelly_std=2,max_w=1)\n",
    "    model_pipe_ = model_pipe.ModelPipe(model = model)\n",
    "    model_pipes[key] = model_pipe_\n",
    "\n",
    "paths=dataset_obj.cvbt(\n",
    "                model_pipes, \n",
    "                k_folds=4, \n",
    "                seq_path=False, \n",
    "                start_fold=0, \n",
    "                n_paths=4, \n",
    "                burn_fraction=0.1, \n",
    "                min_burn_points=3, \n",
    "                share_model=True, \n",
    "                view_models=False\n",
    "                )\n",
    "post_process.post_process(paths)\n",
    "    "
   ]
  },
  {
   "cell_type": "code",
   "execution_count": null,
   "metadata": {},
   "outputs": [],
   "source": []
  },
  {
   "cell_type": "code",
   "execution_count": null,
   "metadata": {
    "scrolled": true
   },
   "outputs": [],
   "source": [
    "# HMM\n",
    "# simple HMM \n",
    "# simulate and fit\n",
    "A=np.array([\n",
    "            [0.9,0.1],\n",
    "            [0.1,0.9]\n",
    "        ]) # state transition\n",
    "\n",
    "P=np.array([0.5,0.5]) # initial state distribution\n",
    "\n",
    "means=[\n",
    "        np.array([0.1]),\n",
    "        np.array([-0.1])\n",
    "    ] # let the means be different from zero \n",
    "\n",
    "# list of covariance matrices (for each mixture)\n",
    "covs=[\n",
    "    np.array([[0.1]]),\n",
    "    np.array([[0.5]])\n",
    "]\n",
    "# number of data points to generate\n",
    "n=2000 \n",
    "x1,z=generators.simulate_hmm(n,A,P,means,covs)\n",
    "x2,z=generators.simulate_hmm(n,A,P,means,covs)\n",
    "\n",
    "dates=pd.date_range('2000-01-01',periods=n,freq='D')\n",
    "data1=pd.DataFrame(x1,columns=['y1'],index=dates)\n",
    "data2=pd.DataFrame(x2,columns=['y1'],index=dates)\n",
    "\n",
    "dataset_obj=dataset.Dataset({'dataset 1':data1, 'dataset 2':data2})\t\n",
    "# create model\n",
    "model=models.GaussianHMM(n_states=2,n_gibbs=100,kelly_std=2,max_w=1)\n",
    "model_pipes=model_pipe.ModelPipes(model)\n",
    "for key in dataset_obj.keys():\n",
    "    model_pipe_ = model_pipe.ModelPipe()\n",
    "    model_pipes[key] = model_pipe_\n",
    "\n",
    "paths=dataset_obj.cvbt(\n",
    "                model_pipes, \n",
    "                k_folds=4, \n",
    "                seq_path=False, \n",
    "                start_fold=0, \n",
    "                n_paths=4, \n",
    "                burn_fraction=0.1, \n",
    "                min_burn_points=3, \n",
    "                share_model=True, \n",
    "                view_models=False\n",
    "                )\n",
    "post_process.portfolio_post_process(paths)"
   ]
  },
  {
   "cell_type": "code",
   "execution_count": null,
   "metadata": {},
   "outputs": [],
   "source": []
  },
  {
   "cell_type": "code",
   "execution_count": null,
   "metadata": {
    "scrolled": true
   },
   "outputs": [],
   "source": [
    "# HMM TRAIN TEST\n",
    "A=np.array([\n",
    "            [0.9,0.1],\n",
    "            [0.1,0.9]\n",
    "        ]) # state transition\n",
    "\n",
    "P=np.array([0.5,0.5]) # initial state distribution\n",
    "\n",
    "means=[\n",
    "        np.array([0.1]),\n",
    "        np.array([-0.1])\n",
    "    ] # let the means be different from zero \n",
    "\n",
    "# list of covariance matrices (for each mixture)\n",
    "covs=[\n",
    "    np.array([[0.1]]),\n",
    "    np.array([[0.5]])\n",
    "]\n",
    "# number of data points to generate\n",
    "n=2000 \n",
    "x1,z=generators.simulate_hmm(n,A,P,means,covs)\n",
    "x2,z=generators.simulate_hmm(n,A,P,means,covs)\n",
    "\n",
    "dates=pd.date_range('2000-01-01',periods=n,freq='D')\n",
    "data1=pd.DataFrame(x1,columns=['y1'],index=dates)\n",
    "data2=pd.DataFrame(x2,columns=['y1'],index=dates)\n",
    "\n",
    "dataset_obj_1=dataset.Dataset({'dataset 1':data1})\t\n",
    "# create model\n",
    "model=models.GaussianHMM(n_states=2,n_gibbs=100,kelly_std=2,max_w=1)\n",
    "model_pipes=model_pipe.ModelPipes(model)\n",
    "for key in dataset_obj_1.keys():\n",
    "    model_pipe_ = model_pipe.ModelPipe()\n",
    "    model_pipes[key] = model_pipe_\n",
    "model_pipes = dataset_obj_1.train(model_pipes)\n",
    "\n",
    "dataset_obj_2 = dataset.Dataset({'dataset 1':data2})\n",
    "paths = dataset_obj_2.test(model_pipes)\n",
    "post_process.portfolio_post_process(paths)\n",
    "\n"
   ]
  },
  {
   "cell_type": "code",
   "execution_count": null,
   "metadata": {},
   "outputs": [],
   "source": [
    "print('RUN LIVE')\n",
    "# GET THE CURRENT WEIGHTS!\n",
    "out=dataset_obj_2.live(model_pipes)\n",
    "print(out)"
   ]
  },
  {
   "cell_type": "code",
   "execution_count": null,
   "metadata": {},
   "outputs": [],
   "source": []
  },
  {
   "cell_type": "code",
   "execution_count": null,
   "metadata": {},
   "outputs": [],
   "source": []
  },
  {
   "cell_type": "code",
   "execution_count": null,
   "metadata": {},
   "outputs": [],
   "source": []
  },
  {
   "cell_type": "code",
   "execution_count": null,
   "metadata": {},
   "outputs": [],
   "source": []
  }
 ],
 "metadata": {
  "kernelspec": {
   "display_name": "Python 3",
   "language": "python",
   "name": "python3"
  },
  "language_info": {
   "codemirror_mode": {
    "name": "ipython",
    "version": 3
   },
   "file_extension": ".py",
   "mimetype": "text/x-python",
   "name": "python",
   "nbconvert_exporter": "python",
   "pygments_lexer": "ipython3",
   "version": "3.8.5"
  }
 },
 "nbformat": 4,
 "nbformat_minor": 5
}
